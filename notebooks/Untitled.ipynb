{
 "cells": [
  {
   "cell_type": "code",
   "execution_count": 1,
   "metadata": {},
   "outputs": [],
   "source": [
    "import re\n",
    "from xml.etree import ElementTree as ET\n",
    "import requests\n",
    "import bs4"
   ]
  },
  {
   "cell_type": "code",
   "execution_count": 5,
   "metadata": {},
   "outputs": [],
   "source": [
    "class Comment:\n",
    "    def __init__(self, raw):\n",
    "        self.content = self.compute_content(raw.find('p'))\n",
    "        karma = raw.find('div', attrs={'class': 'comment_feedback'})\n",
    "        self.id = re.search(r'#\\d+',\n",
    "                            raw.find('div', attrs={'class': 'userinfo'}).text).group(0)\n",
    "\n",
    "        votes = raw.find('span', attrs={'class': 'comment_votes'})\n",
    "        self.votes = int(votes.text)\n",
    "        self.votes *= -1 if votes['class'][1] == 'negative' else 1\n",
    "        self.total_votes = int(re.search(r'\\d+',\n",
    "                                        karma.findAll('small')[-1].text.strip()\n",
    "                                       ).group(0))\n",
    "\n",
    "    def to_xml(self):\n",
    "        top = ET.Element('comment')\n",
    "        \n",
    "        ident = ET.SubElement(top, 'id')\n",
    "        ident.text = self.id\n",
    "        \n",
    "        votes = ET.SubElement(top, 'votes')\n",
    "        total_votes = ET.SubElement(votes, 'total_votes')\n",
    "        total_votes.text = str(self.total_votes)\n",
    "        absolute_votes = ET.SubElement(votes, 'absolute_votes')\n",
    "        absolute_votes.text = str(self.votes)\n",
    "        \n",
    "        content = ET.SubElement(top, 'content')\n",
    "        content.text = self.content\n",
    "        \n",
    "        return top\n",
    "\n",
    "    def compute_content(self, raw):\n",
    "        childs = list(raw.children)\n",
    "        idx = 0\n",
    "        for i, child in enumerate(childs):\n",
    "\n",
    "            if hasattr(child, 'text') and re.match(r'#\\d+\\s+\\w+ dijo:', child.text):\n",
    "                idx = i\n",
    "                break\n",
    "\n",
    "        return ' '.join(filter(lambda x: isinstance(x, str), childs[idx:])).strip()\n",
    "\n",
    "    def __str__(self):\n",
    "        return self.content\n",
    "\n",
    "    def __repr__(self):\n",
    "        return self.content"
   ]
  },
  {
   "cell_type": "code",
   "execution_count": 7,
   "metadata": {},
   "outputs": [],
   "source": [
    "class ADV:\n",
    "    def __init__(self, raw: bs4.element.Tag):\n",
    "        comments = raw.find('div', attrs={'class': 'comment_tag'}).find('a')\n",
    "        meta = raw.find('div', attrs={'class': 'pre'})\n",
    "        metrics = raw.find('div', attrs={'class': 'meta'}).findAll('span')\n",
    "\n",
    "        self.content = raw.find('p', attrs={'class': 'story_content storyTitle'}).find('a').contents[0]\n",
    "\n",
    "        self._comments_url = comments['href'].split('#')[0]\n",
    "\n",
    "        self.date = re.search(r'\\d [A-Z][a-z]+ \\d{4}', meta.text.strip()).group(0) # TODO: parse this shit\n",
    "        self.category = meta.find('a').contents[0]\n",
    "\n",
    "        self.metrics = dict(map(lambda x: (x.contents[0].contents[0],\n",
    "                                           int(re.sub('\\D','', x.contents[1]))),\n",
    "                                metrics))\n",
    "        \n",
    "    def to_xml(self):\n",
    "        top = ET.Element('post')\n",
    "        \n",
    "        date = ET.SubElement(top, 'date')\n",
    "        date.text = self.date\n",
    "        \n",
    "        category = ET.SubElement(top, 'category')\n",
    "        category.text = self.category\n",
    "        \n",
    "        # content = ET.\n",
    "        \n",
    "        \n",
    "        \n",
    "    def get_comments(self):\n",
    "        rc = requests.get(self._comments_url)\n",
    "        comment_soup = bs4.BeautifulSoup(rc.content, 'html5lib')\n",
    "        comments = comment_soup.findAll('div', attrs={'class': 'comment_box'})\n",
    "\n",
    "        return [Comment(comment) for comment in comments]\n",
    "\n",
    "    def __str__(self):\n",
    "        return self.content\n",
    "\n",
    "    def __repr__(self):\n",
    "        return self.content"
   ]
  },
  {
   "cell_type": "code",
   "execution_count": 8,
   "metadata": {},
   "outputs": [],
   "source": [
    "url = 'https://www.ascodevida.com/'\n",
    "req = requests.get(url)\n",
    "soup = bs4.BeautifulSoup(req.content, 'html5lib')\n",
    "\n",
    "main_page = soup.find('div', attrs={'id': 'main'})\n",
    "posts = main_page.findAll('div', attrs={'class': 'box story'})\n",
    "\n",
    "adv = [ADV(post) for post in posts]"
   ]
  },
  {
   "cell_type": "code",
   "execution_count": 9,
   "metadata": {},
   "outputs": [],
   "source": [
    "comments = adv[4].get_comments()"
   ]
  },
  {
   "cell_type": "code",
   "execution_count": 14,
   "metadata": {},
   "outputs": [
    {
     "data": {
      "text/plain": [
       "Hoy, y desde que empezó la cuarentena lo más imponente que he hecho fue ayudar a una señora en el Mercadona porque no llegaba a por la última caja de empanadillas congeladas y solo se le ocurre llamar a una muchacha igual de bajita que ella. ADV"
      ]
     },
     "execution_count": 14,
     "metadata": {},
     "output_type": "execute_result"
    }
   ],
   "source": [
    "adv[4]"
   ]
  },
  {
   "cell_type": "code",
   "execution_count": 13,
   "metadata": {},
   "outputs": [
    {
     "name": "stdout",
     "output_type": "stream",
     "text": [
      "<?xml version=\"1.0\" ?>\n",
      "<comment>\n",
      "  <id>#2</id>\n",
      "  <votes>\n",
      "    <total_votes>1</total_votes>\n",
      "    <absolute_votes>-1</absolute_votes>\n",
      "  </votes>\n",
      "  <content>Menudo &quot;Dramon&quot; tiene que ser ayudar a una señora en el super siendo bajita</content>\n",
      "</comment>\n",
      "\n"
     ]
    }
   ],
   "source": [
    "print(prettify(comments[1].to_xml()))"
   ]
  },
  {
   "cell_type": "code",
   "execution_count": 12,
   "metadata": {},
   "outputs": [],
   "source": [
    "from xml.etree import ElementTree\n",
    "from xml.dom import minidom\n",
    "\n",
    "def prettify(elem):\n",
    "    \"\"\"Return a pretty-printed XML string for the Element.\n",
    "    \"\"\"\n",
    "    rough_string = ElementTree.tostring(elem, 'utf-8')\n",
    "    reparsed = minidom.parseString(rough_string)\n",
    "    return reparsed.toprettyxml(indent=\"  \")"
   ]
  },
  {
   "cell_type": "code",
   "execution_count": 30,
   "metadata": {},
   "outputs": [],
   "source": [
    "x0 = comments[0].to_xml()\n",
    "x1 = comments[1].to_xml()"
   ]
  },
  {
   "cell_type": "code",
   "execution_count": null,
   "metadata": {},
   "outputs": [],
   "source": [
    "# TODO create database"
   ]
  },
  {
   "cell_type": "code",
   "execution_count": 36,
   "metadata": {},
   "outputs": [
    {
     "name": "stdout",
     "output_type": "stream",
     "text": [
      "<?xml version=\"1.0\" ?>\n",
      "<comment>\n",
      "  <id>#1</id>\n",
      "  <votes>\n",
      "    <total_votes>2</total_votes>\n",
      "    <absolute_votes>2</absolute_votes>\n",
      "  </votes>\n",
      "  <content>Jajajajajaja Qué bueno! Pero, que cabrito el chaval! Jajajajajaja \n",
      "Pues, te bañó en leche! No te quejes</content>\n",
      "</comment>\n",
      "\n"
     ]
    }
   ],
   "source": [
    "print(prettify(x0))"
   ]
  },
  {
   "cell_type": "code",
   "execution_count": 35,
   "metadata": {},
   "outputs": [
    {
     "name": "stdout",
     "output_type": "stream",
     "text": [
      "<?xml version=\"1.0\" ?>\n",
      "<comment>\n",
      "  <id>#2</id>\n",
      "  <votes>\n",
      "    <total_votes>2</total_votes>\n",
      "    <absolute_votes>2</absolute_votes>\n",
      "  </votes>\n",
      "  <content>ODIO que la gente desperdicie comida.</content>\n",
      "</comment>\n",
      "\n"
     ]
    }
   ],
   "source": [
    "print(prettify(x1))"
   ]
  }
 ],
 "metadata": {
  "kernelspec": {
   "display_name": "Python 3",
   "language": "python",
   "name": "python3"
  },
  "language_info": {
   "codemirror_mode": {
    "name": "ipython",
    "version": 3
   },
   "file_extension": ".py",
   "mimetype": "text/x-python",
   "name": "python",
   "nbconvert_exporter": "python",
   "pygments_lexer": "ipython3",
   "version": "3.7.4"
  }
 },
 "nbformat": 4,
 "nbformat_minor": 4
}
